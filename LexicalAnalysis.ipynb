{
 "nbformat": 4,
 "nbformat_minor": 0,
 "metadata": {
  "colab": {
   "provenance": []
  },
  "kernelspec": {
   "name": "python3",
   "display_name": "Python 3 (ipykernel)",
   "language": "python"
  },
  "language_info": {
   "name": "python"
  }
 },
 "cells": [
  {
   "cell_type": "markdown",
   "source": "**<H1>ЛЕКСИЧНИЙ АНАЛІЗ</H1>**\n",
   "metadata": {
    "id": "VbaciI-MMaLB"
   }
  },
  {
   "cell_type": "markdown",
   "source": [
    "# **Підготовка блокноту до роботи**"
   ],
   "metadata": {
    "id": "Y-G601IyMPv4"
   }
  },
  {
   "cell_type": "code",
   "source": [
    "from typing import Tuple, Sequence, Any\n",
    "from typing_extensions import Self"
   ],
   "metadata": {
    "id": "5zGBA48v8u7F",
    "ExecuteTime": {
     "end_time": "2024-11-10T09:15:09.848130Z",
     "start_time": "2024-11-10T09:15:09.841132Z"
    }
   },
   "outputs": [],
   "execution_count": 5
  },
  {
   "cell_type": "markdown",
   "source": [
    "# **Клас регулярних виразів**"
   ],
   "metadata": {
    "id": "mzc72HBaMFja"
   }
  },
  {
   "cell_type": "code",
   "metadata": {
    "id": "iV8MKHXSo836",
    "ExecuteTime": {
     "end_time": "2024-11-10T09:15:09.925200Z",
     "start_time": "2024-11-10T09:15:09.897184Z"
    }
   },
   "source": [
    "class ReX(tuple):\n",
    "\n",
    "    EMT = 0  # empty expression\n",
    "    NIL = 1  # nil expression\n",
    "    CHR = 2  # one letter expression\n",
    "    AST = 3  # Kleene closure\n",
    "    CAT = 4  # concatanation\n",
    "    ALT = 5  # alternation\n",
    "\n",
    "    def __new__(cls, kind: int, *args: Sequence[Any]) -> Self:\n",
    "        if type(kind) != int:\n",
    "            raise ValueError(\"ReX() error! Bad type of expression kind\")\n",
    "        if kind == ReX.EMT or kind == ReX.NIL:\n",
    "            if args:\n",
    "                raise ValueError(\"ReX() error! Unexpected argument(s)\")\n",
    "            return super().__new__(cls, (kind, ()))\n",
    "        elif kind == ReX.CHR:\n",
    "            if len(args) != 1:\n",
    "                raise ValueError(\"ReX() error! Invalid number of arguments\")\n",
    "            if type(args[0]) != str and len(args[0]) != 1:\n",
    "                raise ValueError(\"ReX() error! Bad argument(s)\")\n",
    "            return super().__new__(cls, (kind, args))\n",
    "        elif kind == ReX.AST:\n",
    "            if len(args) != 1:\n",
    "                raise ValueError(\"ReX() error! Invalid number of arguments\")\n",
    "            if type(args[0]) != ReX:\n",
    "                raise ValueError(\"ReX() error! Bad argument(s)\")\n",
    "            return super().__new__(cls, (kind, args))\n",
    "        elif kind == ReX.CAT or kind == ReX.ALT:\n",
    "            if len(args) != 2:\n",
    "                raise ValueError(\"ReX() error! Invalid number of arguments\")\n",
    "            if not all(type(arg) == ReX for arg in args):\n",
    "                raise ValueError(\"ReX() error! Bad argument(s)\")\n",
    "            return super().__new__(cls, (kind, args))\n",
    "        else:\n",
    "            raise ValueError(\"ReX() error! Bad kind of expression\")\n",
    "\n",
    "    @property\n",
    "    def kind(self):\n",
    "        return self[0]\n",
    "\n",
    "    def __eq__(self, another: Self) -> bool:\n",
    "        if type(another) != ReX:\n",
    "            raise ValueError(\"invalid comparison\")\n",
    "        return super().__eq__(self, another)\n",
    "\n",
    "    def __ne__(self, another):\n",
    "        return not (self == another)\n",
    "\n",
    "    def __str__(self):\n",
    "        if self.kind == ReX.EMT:\n",
    "            return \"∅\"\n",
    "        if self.kind == ReX.NIL:\n",
    "            return \"ϵ\"\n",
    "        if self.kind == ReX.CHR:\n",
    "            return self[1][0]\n",
    "        if self.kind == ReX.AST:\n",
    "            return f\"{self[1][0]}*\"\n",
    "        if self.kind == ReX.CAT:\n",
    "            return f\"({self[1][0]} {self[1][1]})\"\n",
    "        # self.kind == ReX.ALT\n",
    "        return f\"({self[1][0]} | {self[1][1]})\"\n",
    "\n",
    "    @classmethod\n",
    "    def Empty(cls) -> Self:\n",
    "        return ReX(ReX.EMT)\n",
    "\n",
    "    @classmethod\n",
    "    def Nil(cls) -> Self:\n",
    "        return ReX(ReX.NIL)\n",
    "\n",
    "    @classmethod\n",
    "    def Char(cls, ch: str) -> Self:\n",
    "        return ReX(ReX.CHR, ch)\n",
    "\n",
    "    @classmethod\n",
    "    def Ast(cls, rex: Self) -> Self:\n",
    "        return ReX(ReX.AST, rex)\n",
    "\n",
    "    @classmethod\n",
    "    def Cat(cls, rex1: Self, rex2: Self) -> Self:\n",
    "        return ReX(ReX.CAT, rex1, rex2)\n",
    "\n",
    "    @classmethod\n",
    "    def Alt(cls, rex1: Self, rex2: Self) -> Self:\n",
    "        return ReX(ReX.ALT, rex1, rex2)"
   ],
   "outputs": [],
   "execution_count": 6
  },
  {
   "cell_type": "code",
   "source": [
    "empty = ReX.Empty()\n",
    "print(f\"empty = {empty}\")\n",
    "nil = ReX.Nil()\n",
    "print(f\"nil   = {nil}\")\n",
    "a, b = ReX.Char('a'), ReX.Char('b')\n",
    "print(f\"a  = '{a}', b = '{b}'\")\n",
    "ast = ReX.Ast(a)\n",
    "print(f\"ast   = {ast}\")\n",
    "cat = ReX.Cat(a, b)\n",
    "print(f\"cat   = {cat}\")\n",
    "alt = ReX.Alt(a, b)\n",
    "print(f\"alt   = {alt}\")"
   ],
   "metadata": {
    "colab": {
     "base_uri": "https://localhost:8080/"
    },
    "id": "qnMOsqKzbmIG",
    "outputId": "2c7b0a77-3e13-4926-8010-fb1e1d9bebc0",
    "ExecuteTime": {
     "end_time": "2024-11-10T09:15:09.941209Z",
     "start_time": "2024-11-10T09:15:09.936199Z"
    }
   },
   "outputs": [
    {
     "name": "stdout",
     "output_type": "stream",
     "text": [
      "empty = ∅\n",
      "nil   = ϵ\n",
      "a  = 'a', b = 'b'\n",
      "ast   = a*\n",
      "cat   = (a b)\n",
      "alt   = (a | b)\n"
     ]
    }
   ],
   "execution_count": 7
  },
  {
   "cell_type": "markdown",
   "source": [
    "# **Функція** `simplify()`"
   ],
   "metadata": {
    "id": "BXAilFXtS7IH"
   }
  },
  {
   "cell_type": "markdown",
   "source": [
    "Функція `simplify(expr: ReX) -> ReX`\n",
    "забезпечує рекурсивне спрощення регулярних виразів за правилами\n",
    "\n",
    "- $(\\emptyset\\mid e)\\longrightarrow e$\n",
    "- $(e\\mid\\emptyset)\\longrightarrow e$\n",
    "- $(\\emptyset\\ e)\\longrightarrow\\emptyset$\n",
    "- $(e\\ \\emptyset)\\longrightarrow\\emptyset$\n",
    "- $(\\epsilon\\ e)\\longrightarrow e$\n",
    "- $(e\\ \\epsilon)\\longrightarrow e$\n",
    "- $(\\emptyset)^\\ast\\longrightarrow\\epsilon$\n",
    "- $(\\epsilon)^\\ast\\longrightarrow\\epsilon$"
   ],
   "metadata": {
    "id": "mFJ1OY6hTJwB"
   }
  },
  {
   "cell_type": "code",
   "source": [
    "def simplify(rex: ReX) -> ReX:\n",
    "    kind = rex.kind\n",
    "    if kind == ReX.ALT:\n",
    "        left, right = rex[1]\n",
    "        if left == ReX.Empty():\n",
    "            return simplify(right)\n",
    "        if right == ReX.Empty():\n",
    "            return simplify(left)\n",
    "    elif kind == ReX.CAT:\n",
    "        left, right = rex[1]\n",
    "        if left == ReX.Empty() or right == ReX.Empty():\n",
    "            return ReX.Empty()\n",
    "        if left == ReX.Nil():\n",
    "            return simplify(right)\n",
    "        if right == ReX.Nil():\n",
    "            return simplify(left)\n",
    "    elif kind == ReX.AST:\n",
    "        sub_expr = rex[1][0]\n",
    "        if sub_expr == ReX.Empty() or sub_expr == ReX.Nil():\n",
    "            return ReX.Nil()\n",
    "    return rex\n"
   ],
   "metadata": {
    "id": "YdTSDpifiKTW",
    "ExecuteTime": {
     "end_time": "2024-11-10T09:15:09.987193Z",
     "start_time": "2024-11-10T09:15:09.968188Z"
    }
   },
   "outputs": [],
   "execution_count": 8
  },
  {
   "cell_type": "markdown",
   "source": [
    "# **Функція** `check_nil()`"
   ],
   "metadata": {
    "id": "0lXOKla0d80U"
   }
  },
  {
   "cell_type": "markdown",
   "source": [
    "Функція `does_contain_nil(rex: ReX) -> bool`\n",
    "перевіряє чи належить порожнє слово регулярній мові, що визначається регулярним виразом `ReX`."
   ],
   "metadata": {
    "id": "uaycpwjLe0aA"
   }
  },
  {
   "cell_type": "code",
   "source": [
    "def does_contain_nil(rex: ReX) -> bool:\n",
    "    kind = rex.kind\n",
    "    if kind == ReX.NIL:\n",
    "        return True\n",
    "    elif kind == ReX.EMT:\n",
    "        return False\n",
    "    elif kind == ReX.CHR:\n",
    "        return False\n",
    "    elif kind == ReX.AST:\n",
    "        return True\n",
    "    elif kind == ReX.CAT:\n",
    "        left, right = rex[1]\n",
    "        return does_contain_nil(left) and does_contain_nil(right)\n",
    "    elif kind == ReX.ALT:\n",
    "        left, right = rex[1]\n",
    "        return does_contain_nil(left) or does_contain_nil(right)\n",
    "    return False\n"
   ],
   "metadata": {
    "id": "Wh638rNwuwJP",
    "ExecuteTime": {
     "end_time": "2024-11-10T09:15:10.017192Z",
     "start_time": "2024-11-10T09:15:10.005194Z"
    }
   },
   "outputs": [],
   "execution_count": 9
  },
  {
   "cell_type": "markdown",
   "source": [
    "# **Функція** `Brzozowski()`"
   ],
   "metadata": {
    "id": "owHPJiyNfx0I"
   }
  },
  {
   "cell_type": "markdown",
   "source": [
    "Функція `Brzozowski(rex: ReX, ch: str) -> ReX`\n",
    "обчислює похідну Бжозовськи за символом `ch` регулярного виразу `rex`."
   ],
   "metadata": {
    "id": "Bd0ahI9Hf8pV"
   }
  },
  {
   "cell_type": "code",
   "source": [
    "def Brzozowski(rex: ReX, ch: str) -> ReX:\n",
    "    kind = rex.kind\n",
    "    if kind == ReX.EMT:\n",
    "        return ReX.Empty()\n",
    "    elif kind == ReX.NIL:\n",
    "        return ReX.Empty()\n",
    "    elif kind == ReX.CHR:\n",
    "        return ReX.Nil() if rex[1][0] == ch else ReX.Empty()\n",
    "    elif kind == ReX.ALT:\n",
    "        left, right = rex[1]\n",
    "        return simplify(ReX.Alt(Brzozowski(left, ch), Brzozowski(right, ch)))\n",
    "    elif kind == ReX.CAT:\n",
    "        left, right = rex[1]\n",
    "        if does_contain_nil(left):\n",
    "            return simplify(ReX.Alt(ReX.Cat(Brzozowski(left, ch), right), Brzozowski(right, ch)))\n",
    "        else:\n",
    "            return simplify(ReX.Cat(Brzozowski(left, ch), right))\n",
    "    elif kind == ReX.AST:\n",
    "        sub_expr = rex[1][0]\n",
    "        return simplify(ReX.Cat(Brzozowski(sub_expr, ch), rex))\n"
   ],
   "metadata": {
    "id": "ebiIIfImxZ_D",
    "ExecuteTime": {
     "end_time": "2024-11-10T09:15:10.049180Z",
     "start_time": "2024-11-10T09:15:10.035194Z"
    }
   },
   "outputs": [],
   "execution_count": 10
  },
  {
   "metadata": {
    "ExecuteTime": {
     "end_time": "2024-11-10T09:17:33.316202Z",
     "start_time": "2024-11-10T09:17:33.291204Z"
    }
   },
   "cell_type": "code",
   "source": [
    "class ReX(tuple):\n",
    "    EMT = 0  # empty expression\n",
    "    NIL = 1  # nil expression\n",
    "    CHR = 2  # one letter expression\n",
    "    AST = 3  # Kleene closure\n",
    "    CAT = 4  # concatenation\n",
    "    ALT = 5  # alternation\n",
    "\n",
    "    def __new__(cls, kind: int, *args) -> \"ReX\":\n",
    "        if not isinstance(kind, int):\n",
    "            raise ValueError(\"ReX() error! Bad type of expression kind\")\n",
    "\n",
    "        if kind == ReX.EMT or kind == ReX.NIL:\n",
    "            if args:\n",
    "                raise ValueError(\"ReX() error! Unexpected argument(s)\")\n",
    "            return super().__new__(cls, (kind,))\n",
    "\n",
    "        elif kind == ReX.CHR:\n",
    "            if len(args) != 1 or not isinstance(args[0], str) or len(args[0]) != 1:\n",
    "                raise ValueError(\"ReX() error! Invalid character argument\")\n",
    "            return super().__new__(cls, (kind, args[0]))\n",
    "\n",
    "        elif kind == ReX.AST:\n",
    "            if len(args) != 1 or not isinstance(args[0], ReX):\n",
    "                raise ValueError(\"ReX() error! Invalid argument for AST\")\n",
    "            return super().__new__(cls, (kind, args[0]))\n",
    "\n",
    "        elif kind in (ReX.CAT, ReX.ALT):\n",
    "            if len(args) != 2 or not all(isinstance(arg, ReX) for arg in args):\n",
    "                raise ValueError(\"ReX() error! Invalid arguments for CAT/ALT\")\n",
    "            return super().__new__(cls, (kind, args[0], args[1]))\n",
    "\n",
    "        else:\n",
    "            raise ValueError(\"ReX() error! Invalid kind of expression\")\n",
    "\n",
    "    @property\n",
    "    def kind(self):\n",
    "        return self[0]\n",
    "\n",
    "    def __str__(self):\n",
    "        if self.kind == ReX.EMT:\n",
    "            return \"∅\"\n",
    "        elif self.kind == ReX.NIL:\n",
    "            return \"ϵ\"\n",
    "        elif self.kind == ReX.CHR:\n",
    "            return self[1]\n",
    "        elif self.kind == ReX.AST:\n",
    "            return f\"{self[1]}*\"\n",
    "        elif self.kind == ReX.CAT:\n",
    "            return f\"({self[1]} {self[2]})\"\n",
    "        elif self.kind == ReX.ALT:\n",
    "            return f\"({self[1]} | {self[2]})\"\n",
    "\n",
    "    # Additional methods (Empty, Nil, Char, Ast, Cat, Alt) remain the same.\n",
    "\n",
    "# Testing\n",
    "empty = ReX(ReX.EMT)\n",
    "nil = ReX(ReX.NIL)\n",
    "a = ReX(ReX.CHR, 'a')\n",
    "b = ReX(ReX.CHR, 'b')\n",
    "cat = ReX(ReX.CAT, a, b)\n",
    "alt = ReX(ReX.ALT, a, b)\n",
    "\n",
    "print(f\"empty = {empty}\")\n",
    "print(f\"nil = {nil}\")\n",
    "print(f\"a = {a}\")\n",
    "print(f\"b = {b}\")\n",
    "print(f\"cat = {cat}\")\n",
    "print(f\"alt = {alt}\")\n",
    "\n"
   ],
   "outputs": [
    {
     "name": "stdout",
     "output_type": "stream",
     "text": [
      "empty = ∅\n",
      "nil = ϵ\n",
      "a = a\n",
      "b = b\n",
      "cat = (a b)\n",
      "alt = (a | b)\n"
     ]
    }
   ],
   "execution_count": 14
  },
  {
   "metadata": {},
   "cell_type": "code",
   "outputs": [],
   "execution_count": null,
   "source": ""
  }
 ]
}
